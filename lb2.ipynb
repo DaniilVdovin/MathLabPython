{
 "cells": [
  {
   "cell_type": "markdown",
   "id": "ccffcb54",
   "metadata": {},
   "source": [
    "# Лабораторная работа№2. Нелинейные уравнения.\n",
    "\n",
    "## Задача 1. Нахождение корней полиномов\n",
    "### Полиномы : $$0.89x^4+3.67x^3-7.92x^2-13=0$$ $$2x^3-0.35x^2+0.47x-1.43=0$$"
   ]
  },
  {
   "cell_type": "markdown",
   "id": "2cd93402",
   "metadata": {},
   "source": [
    "В scilab для решения данной задачи существует встроенная команда ***roots***\n",
    "\n",
    "Синтаксис\n",
    "**[x]=roots(p)**\n",
    "\n",
    "Параметры\n",
    "\n",
    "**p** - полином с действительными или комплексными элементами\n",
    "\n",
    "**x=roots(p)** возвращает комплексный вектор x корней полинома p. Степень полинома p должна быть <=100. \n",
    "\n",
    "Пример кода на scilab:\n",
    "``` scilab\n",
    "V =[-13 0 -7.92 3.67 0.89];\n",
    "p=poly(V,'x','c')\n",
    "x=roots(p)\n",
    "```"
   ]
  },
  {
   "cell_type": "markdown",
   "id": "7784ece3",
   "metadata": {},
   "source": [
    "Приведем вариант решения на python"
   ]
  },
  {
   "cell_type": "code",
   "execution_count": 1,
   "id": "106e27b4",
   "metadata": {},
   "outputs": [
    {
     "name": "stdout",
     "output_type": "stream",
     "text": [
      "[-5.74851798+0.j          2.02585946+0.j         -0.2004685 +1.10185027j\n",
      " -0.2004685 -1.10185027j]\n"
     ]
    }
   ],
   "source": [
    "import numpy as np\n",
    "p = [0.89, 3.67, -7.92, 0 , -13 ]\n",
    "roots = np.roots(p)\n",
    "print(roots)"
   ]
  },
  {
   "cell_type": "markdown",
   "id": "a4d893a8",
   "metadata": {},
   "source": [
    "После решения видим что данный полином имеет два действительных корня $$x_1=-5.74851798$$ $$x_2=2.02585946$$, а так же два мнимых корня $$x_3=-0.2004685 +1.10185027j$$ $$x_4=-0.2004685 -1.10185027j$$\n",
    "\n",
    "Приступим к решению второго полинома"
   ]
  },
  {
   "cell_type": "code",
   "execution_count": 2,
   "id": "8024b0c4",
   "metadata": {},
   "outputs": [
    {
     "name": "stdout",
     "output_type": "stream",
     "text": [
      "[-0.34395245+0.84278896j -0.34395245-0.84278896j  0.86290491+0.j        ]\n"
     ]
    }
   ],
   "source": [
    "import numpy as np\n",
    "p = [2, -0.35, 0.47 , -1.43 ]\n",
    "roots = np.roots(p)\n",
    "print(roots)"
   ]
  },
  {
   "cell_type": "markdown",
   "id": "1bb1ec45",
   "metadata": {},
   "source": [
    "После решения видим что данный полином имеет один действительный корень $$x_1=0.86290491$$ , а так же два мнимых корня $$x_2= -0.34395245+0.84278896j$$ $$x_3=-0.34395245-0.84278896j$$"
   ]
  },
  {
   "cell_type": "markdown",
   "id": "63435165",
   "metadata": {},
   "source": [
    "## Задача 2. Решение нелинейных уранений\n",
    "\n",
    "### Метод половинного деления\n",
    "#### Задание: $$2lnx-\\frac {1}{x}=0$$\n",
    "Выисляется по следующему алгоритму\n",
    "1. Находим точку c = (a + b) / 2;\n",
    "2. Находим значение f(с);\n",
    "3. Если f(а) × f(с) < 0, то корень лежит на интервале [a, c], в других случаях он находится на интервале [c, b];\n",
    "4. Если величина интервала ≤ε, то найден корень с точностью ε, иначе возвращаемся к п.1."
   ]
  },
  {
   "cell_type": "code",
   "execution_count": 62,
   "id": "9a7b5e37",
   "metadata": {},
   "outputs": [
    {
     "name": "stdout",
     "output_type": "stream",
     "text": [
      "Введите начало интервала\n",
      "-10\n",
      "Введите конец интервала\n",
      "10\n",
      "Ограничение логарифма x1>0\n",
      "Функция рассчитывается для промежутка от 0.1 до 10.0\n"
     ]
    },
    {
     "data": {
      "image/png": "[encoded data removed]",
      "text/plain": [
       "<Figure size 640x480 with 1 Axes>"
      ]
     },
     "metadata": {},
     "output_type": "display_data"
    },
    {
     "name": "stdout",
     "output_type": "stream",
     "text": [
      "корень 1.4215294241905212\n",
      "значение функции -9.731378431965254e-07\n"
     ]
    }
   ],
   "source": [
    "import math\n",
    "import numpy as np\n",
    "import matplotlib.pyplot as plt\n",
    "\n",
    "# функция уранения f(x)=0\n",
    "def f(x):\n",
    "    try:\n",
    "        return 2*math.log(x)-(1/x)\n",
    "    except: \n",
    "        return x\n",
    "\n",
    "def rec(x1,x2):\n",
    "    # переменная поиска корня\n",
    "    c=(x1+x2)/2\n",
    "\n",
    "    while(abs(f(c) or e+1)>e):\n",
    "        # выбор отрезка\n",
    "        # слева\n",
    "        if (f(x1)*f(c)<0):\n",
    "            x2=c\n",
    "        # справа\n",
    "        else:\n",
    "            x1=c\n",
    "        # следующий шаг полов. деления\n",
    "        c=(x1+x2)/2\n",
    "        \n",
    "    return c\n",
    "# точность\n",
    "e=1e-6\n",
    "#print('Введите погрешность')\n",
    "#e=float(input())\n",
    "# пределы поиска решения\n",
    "print('Введите начало интервала')\n",
    "x1=float(input())\n",
    "print('Введите конец интервала')\n",
    "x2=float(input())\n",
    "if x1<=0:\n",
    "    print('Ограничение логарифма x1>0')\n",
    "    x1 = 0.1\n",
    "if x2<=0:\n",
    "    print('Ограничение логарифма x2>0')\n",
    "    x2 = 0.1\n",
    "\n",
    "print('Функция рассчитывается для промежутка от',x1,'до',x2)\n",
    "x = np.arange(x1,x2,0.01)\n",
    "y = np.vectorize(f)\n",
    "\n",
    "plt.plot(x,y(x))\n",
    "res = rec(x1,x2)\n",
    "plt.axvline(x = res, color = 'r',ls='--')\n",
    "plt.axhline(y = 0, color = 'r',ls='--')\n",
    "plt.show()\n",
    "print('корень',res)\n",
    "print('значение функции',f(res))"
   ]
  },
  {
   "cell_type": "markdown",
   "id": "38e19464",
   "metadata": {},
   "source": [
    "Не смотря на простоту, такое последовательное сужение интервала не всегда рационально, так как требует большого количества вычислений. Кроме того, этот способ не всегда позволяет найти решение с заданной точностью. "
   ]
  },
  {
   "cell_type": "markdown",
   "id": "ce3e8ad1",
   "metadata": {},
   "source": [
    "### Метод хорд.\n",
    "\n",
    "Этот метод отличается от метода половинного деления тем, что очередное\n",
    "приближение берём не в середине отрезка, а в точке пересечения с осью X прямой, соединяющей точки (a, f(a)) и (b, f(b)) [1, 10].\n",
    "\n",
    "Алгоритм, реализующий метод хорд, можно представить так:\n",
    "1. Находим точку c по формуле $$c = a − \\frac{f(a)}{f(b)−f(a)}*(b − a)$$\n",
    "2. Если f(a)·f(c) < 0, то корень лежит на интервале [a, c], иначе - на интервале [c, b];\n",
    "3. Если абсолютное значение f() не превышает некоторое достаточно малоечисло ϵ, то найден корень с точностью ϵ, иначе возвращаемся к п.1."
   ]
  },
  {
   "cell_type": "code",
   "execution_count": 63,
   "id": "99962065",
   "metadata": {},
   "outputs": [
    {
     "name": "stdout",
     "output_type": "stream",
     "text": [
      "Введите начало интервала\n",
      "-10\n",
      "Введите конец интервала\n",
      "10\n",
      "Ограничение логарифма x1>0\n",
      "Функция рассчитывается для промежутка от 0.1 до 10.0\n"
     ]
    },
    {
     "data": {
      "image/png": "[encoded data removed]",
      "text/plain": [
       "<Figure size 640x480 with 1 Axes>"
      ]
     },
     "metadata": {},
     "output_type": "display_data"
    },
    {
     "name": "stdout",
     "output_type": "stream",
     "text": [
      "корень 1.4215304357399865\n",
      "значение функции 9.50628214035909e-07\n"
     ]
    }
   ],
   "source": [
    "import math\n",
    "import numpy as np\n",
    "import matplotlib.pyplot as plt\n",
    "\n",
    "# функция уранения f(x)=0\n",
    "def f(x):\n",
    "    try:\n",
    "        return 2*math.log(x)-1/x\n",
    "    except: \n",
    "        return x\n",
    "\n",
    "def rec(x1,x2):\n",
    "        \n",
    "    # переменная поиска корня\n",
    "    c=x1-(f(x1)/(f(x2)-f(x1)))*(x2-x1)\n",
    "    while(abs(f(c))>e):\n",
    "        # выбор отрезка\n",
    "        # слева\n",
    "        if ((f(x1)*f(c)<0)):\n",
    "            x2=c\n",
    "        # справа\n",
    "        else:\n",
    "            x1=c\n",
    "        # следующий шаг \n",
    "        c=x1-(f(x1)/(f(x2)-f(x1)))*(x2-x1)\n",
    "    return c\n",
    "# точность\n",
    "e=1e-6\n",
    "#print('Введите погрешность')\n",
    "#e=float(input())\n",
    "# пределы поиска решения\n",
    "print('Введите начало интервала')\n",
    "x1=float(input())\n",
    "print('Введите конец интервала')\n",
    "x2=float(input())\n",
    "if x1<=0:\n",
    "    print('Ограничение логарифма x1>0')\n",
    "    x1 = 0.1\n",
    "if x2<=0:\n",
    "    print('Ограничение логарифма x2>0')\n",
    "    x2 = 0.1\n",
    "\n",
    "print('Функция рассчитывается для промежутка от',x1,'до',x2)\n",
    "x = np.arange(x1,x2,0.01)\n",
    "y = np.vectorize(f)\n",
    "\n",
    "plt.plot(x,y(x))\n",
    "res = rec(x1,x2)\n",
    "plt.axvline(x = res, color = 'r',ls='--')\n",
    "plt.axhline(y = 0, color = 'r',ls='--')\n",
    "plt.show()\n",
    "print('корень',res)\n",
    "print('значение функции',f(res))"
   ]
  },
  {
   "cell_type": "markdown",
   "id": "04af40a8",
   "metadata": {},
   "source": [
    "Получили корень с большей точностью.\n",
    "\n",
    "Описанный способ позволяет достаточно быстро (за меньшее количество шагов, чем в методе дихотомии) вычислить значение корня уравнения с заданной точностью.\n",
    "\n",
    "### Метод касательных\n",
    "\n",
    "Метод касательных имеет второе название – метод Ньютона.\n",
    "Единственные требования, накладываемые на функцию f — что у неё есть хотя бы один корень и что она непрерывна и дифференцируема на интервале поиска.\n",
    "\n",
    "В одной източек интервала [a; b], пусть это будет точка c, проведём касательную \n",
    "Запишем уравнение этой прямой:\n",
    "$$ y = k · x + m $$\n",
    "Так как эта прямая является касательной, и она проходит через точку $$(c, f(c))$$,то $$k = f′(c)$$.\n",
    "\n",
    "Следовательно,\n",
    "$$ y = f′(x) · x + m, f(c) = f′(c) · c + m, m = f(c) − c · f′(c),$$\n",
    "$$ y = f′(c) · x + f(c) − c · f′(c), y = f′(c) · (x − c) + f(c).$$\n",
    "Найдём точку пересечения касательной с осью X:$$ f ′(c) · (x − c) + f(c) = 0$$,\n",
    "$$x = c − \\frac{f(c)}{f′(c)}$$\n",
    "Если |f(x)| < ε, то точность достигнута, и точка x — решение; иначе необходимо переменной c присвоить значение x и провести касательную через новую точку c; так продолжать до тех пор, пока |f(x)| не станет меньше ε . Осталось решить вопрос, что выбрать в качестве точки начального приближения c. \n",
    "В этой точке должны совпадать знаки функции и её второй производной.\n"
   ]
  },
  {
   "cell_type": "code",
   "execution_count": 64,
   "id": "f2d6a217",
   "metadata": {},
   "outputs": [
    {
     "name": "stdout",
     "output_type": "stream",
     "text": [
      "Введите начало интервала\n",
      "-10\n",
      "Введите конец интервала\n",
      "10\n",
      "Ограничение логарифма x1>0\n",
      "Функция рассчитывается для промежутка от 0.1 до 10.0\n"
     ]
    },
    {
     "data": {
      "image/png": "[encoded data removed]",
      "text/plain": [
       "<Figure size 640x480 with 1 Axes>"
      ]
     },
     "metadata": {},
     "output_type": "display_data"
    },
    {
     "name": "stdout",
     "output_type": "stream",
     "text": [
      "корень 1.4215299352307211\n",
      "значение функции -1.2407266325453747e-09\n"
     ]
    }
   ],
   "source": [
    "import math\n",
    "import numpy as np\n",
    "import matplotlib.pyplot as plt\n",
    "\n",
    "# функция уранения f(x)=0\n",
    "def f(x):\n",
    "    try:\n",
    "        return 2*math.log(x)-1/x\n",
    "    except: \n",
    "        return x\n",
    "# производная функции\n",
    "def df(x):\n",
    "    try:\n",
    "        return 2/x+1/(x*x)\n",
    "    except: \n",
    "        return x\n",
    "    \n",
    "def rec(x1,x2):\n",
    "    if df(x1)*f(x1)<0:\n",
    "        c=x1\n",
    "    else:\n",
    "        c=x2\n",
    "    while(abs(f(c))>e):\n",
    "        c=c-(f(c)/df(c))\n",
    "    return c\n",
    "\n",
    "# точность\n",
    "e=1e-6\n",
    "#print('Введите погрешность')\n",
    "#e=float(input())\n",
    "# пределы поиска решения\n",
    "print('Введите начало интервала')\n",
    "x1=float(input())\n",
    "print('Введите конец интервала')\n",
    "x2=float(input())\n",
    "if x1<=0:\n",
    "    print('Ограничение логарифма x1>0')\n",
    "    x1 = 0.1\n",
    "if x2<=0:\n",
    "    print('Ограничение логарифма x2>0')\n",
    "    x2 = 0.1\n",
    "\n",
    "print('Функция рассчитывается для промежутка от',x1,'до',x2)\n",
    "x = np.arange(x1,x2,0.01)\n",
    "y = np.vectorize(f)\n",
    "\n",
    "plt.plot(x,y(x))\n",
    "res = rec(x1,x2)\n",
    "plt.axvline(x = res, color = 'r',ls='--')\n",
    "plt.axhline(y = 0, color = 'r',ls='--')\n",
    "plt.show()\n",
    "print('корень',res)\n",
    "print('значение функции',f(res))"
   ]
  },
  {
   "cell_type": "markdown",
   "id": "a5900c84",
   "metadata": {},
   "source": [
    "### Метод простой итерации\n",
    "В практических вычислениях довольно часто приходится решать уравнения вида:\n",
    "$$f (x) = 0,$$ где функция f(x) определена и непрерывна на некотором конечном или бесконечном, интервале а < х < b.\n",
    "\n",
    "Если функция представляет собой многочлен, то уравнение называют\n",
    "алгебраическим, если же в функцию f(x) входят элементарные (тригонометрические,\n",
    "логарифмические, показательные и т. п.) функции, то такое уравнение называют\n",
    "трансцендентным.\n",
    "\n",
    "Всякое значение x*, обращающее функцию f (х) в нуль, т. е. такое, что\n",
    "$$f(х*) = 0,$$ называется корнем уравнения, а способ нахождения этого значения х* и есть решение уравнения.\n",
    "\n",
    "Приведем исходное уравнение к виду итерационного уравнения. Для этого\n",
    "уравнение представим в форме:\n",
    "$$x = \\varphi (x)$$\n",
    "что всегда можно сделать и притом многими способами. Например, можно\n",
    "выделить из уравнения х, остальное перенести в правую часть (это и будет\n",
    "$\\varphi(х)$). Или умножить левую и правую части исходного уравнения на произвольную константу $\\lambda$ и прибавить к левой и правой частям Х, т. е. представить уравнение в виде\n",
    "$$x=x+\\lambda f(x).$$\n",
    "При этом $\\varphi(х)=x+\\lambda f(x)$.\n",
    "Выберем на отрезке [$\\alpha, \\beta$] произвольную точку $X_0$ — нулевое приближение, и примем в качестве следующего приближения\n",
    "$$х1=\\varphi(х_0),$$\n",
    "далее\n",
    "$$х2=\\varphi(х_1),$$\n",
    "и вообще пусть $Х_п$ получается из $Х_{n-1}$ по формуле\n",
    "$$Xn = \\varphi(X_{n-1})$$\n",
    "Этот процесс последовательного вычисления чисел $Х_п$ (п = 1, 2, 3,...) по предыдущей формуле называется методом итераций.\n"
   ]
  },
  {
   "cell_type": "code",
   "execution_count": 2,
   "id": "5047168a",
   "metadata": {},
   "outputs": [
    {
     "name": "stdout",
     "output_type": "stream",
     "text": [
      "Введите начало интервала\n",
      "-10\n",
      "Введите конец интервала\n",
      "10\n",
      "Ограничение логарифма x1>0\n",
      "Функция рассчитывается для промежутка от 0.1 до 10.0\n",
      "Количество итераций 137\n"
     ]
    },
    {
     "data": {
      "image/png": "[encoded data removed]",
      "text/plain": [
       "<Figure size 640x480 with 1 Axes>"
      ]
     },
     "metadata": {},
     "output_type": "display_data"
    },
    {
     "name": "stdout",
     "output_type": "stream",
     "text": [
      "корень 1.4215293898901364\n",
      "значение функции -1.0383703886729378e-06\n"
     ]
    }
   ],
   "source": [
    "import math\n",
    "import numpy as np\n",
    "import matplotlib.pyplot as plt\n",
    "\n",
    "# функция уранения f(x)=0\n",
    "def f(x):\n",
    "    try:\n",
    "        return 2*math.log(x)-1/x\n",
    "    except: \n",
    "        return x\n",
    "\n",
    "def rec(x1,x2):\n",
    "    x=x1\n",
    "    l=0.05\n",
    "    k=0\n",
    "    x1=x-l*f(x)\n",
    "    while (abs(f(x1))>e):\n",
    "        k+=1\n",
    "        x=x1\n",
    "        x1=x-l*f(x)\n",
    "    print('Количество итераций',k)\n",
    "    return x\n",
    "# точность\n",
    "e=1e-6\n",
    "#print('Введите погрешность')\n",
    "#e=float(input())\n",
    "# пределы поиска решения\n",
    "print('Введите начало интервала')\n",
    "x1=float(input())\n",
    "print('Введите конец интервала')\n",
    "x2=float(input())\n",
    "\n",
    "if x1<=0:\n",
    "    print('Ограничение логарифма x1>0')\n",
    "    x1 = 0.1\n",
    "if x2<=0:\n",
    "    print('Ограничение логарифма x2>0')\n",
    "    x2 = 0.1\n",
    "\n",
    "\n",
    "print('Функция рассчитывается для промежутка от',x1,'до',x2)\n",
    "x = np.arange(x1,x2,0.01)\n",
    "y = np.vectorize(f)\n",
    "\n",
    "plt.plot(x,y(x))\n",
    "res = rec(x1,x2)\n",
    "plt.axvline(x = res, color = 'r',ls='--')\n",
    "plt.axhline(y = 0, color = 'r',ls='--')\n",
    "plt.show()\n",
    "print('корень',res)\n",
    "print('значение функции',f(res))"
   ]
  },
  {
   "cell_type": "markdown",
   "id": "fd5aab6c",
   "metadata": {},
   "source": [
    "### Метод секущих\n",
    "Метод секущих берёт начало от метода касательных Ньютона, то есть вычисляется по той же формуле: $$x_{k+1} = x_k − \\frac{f(x_k)}{f′(x_k)}$$\n",
    "только производная заменяется на формулу разностей: $$x_{k+1} = x_k − \\frac{f(x_k)}{f(x_k)-f(x_{k+1})}*(x_k-x_{k+1})$$\n",
    "метод секущих производная\n",
    "тогда формула для вычисления с помощью метода секущих примет вид:\n",
    "метод секущих формула\n",
    "при условии|xk+1–xk|<ε, где ε – абсолютная погрешность вычисления корня уравнения."
   ]
  },
  {
   "cell_type": "code",
   "execution_count": 69,
   "id": "69fcd62e",
   "metadata": {},
   "outputs": [
    {
     "name": "stdout",
     "output_type": "stream",
     "text": [
      "Введите начало интервала\n",
      "-5\n",
      "Введите конец интервала\n",
      "5\n",
      "Ограничение логарифма x1>0\n",
      "Функция рассчитывается для промежутка от 0.56 до 5.0\n"
     ]
    },
    {
     "data": {
      "image/png": "[encoded data removed]",
      "text/plain": [
       "<Figure size 640x480 with 1 Axes>"
      ]
     },
     "metadata": {},
     "output_type": "display_data"
    },
    {
     "name": "stdout",
     "output_type": "stream",
     "text": [
      "корень 1.4215299358831188\n",
      "значение функции 4.218847493575595e-15\n"
     ]
    }
   ],
   "source": [
    "import math\n",
    "import numpy as np\n",
    "import matplotlib.pyplot as plt\n",
    "\n",
    "# функция уранения f(x)=0\n",
    "def f(x):\n",
    "    try:\n",
    "        return 2*math.log(x)-1/x\n",
    "    except: \n",
    "        return -1\n",
    "    \n",
    "def rec(a,b):\n",
    "    while abs(a-b)>e:\n",
    "        \n",
    "        a=b-((b-a)*f(b))/(f(b)-f(a))\n",
    "        b=a-((a-b)*f(a))/(f(a)-f(b))\n",
    "    return b\n",
    "\n",
    "# точность\n",
    "e=1e-6\n",
    "#print('Введите погрешность')\n",
    "#e=float(input())\n",
    "# пределы поиска решения\n",
    "print('Введите начало интервала')\n",
    "x1=float(input())\n",
    "print('Введите конец интервала')\n",
    "x2=float(input())\n",
    "if x1<=0:\n",
    "    print('Ограничение логарифма x1>0')\n",
    "    x1 = 0.56\n",
    "if x2<=0:\n",
    "    print('Ограничение логарифма x2>0')\n",
    "    x2 = 0.56\n",
    "\n",
    "print('Функция рассчитывается для промежутка от',x1,'до',x2)\n",
    "x = np.arange(x1,x2,0.01)\n",
    "y = np.vectorize(f)\n",
    "\n",
    "plt.plot(x,y(x))\n",
    "res = rec(x1,x2)\n",
    "plt.axvline(x = res, color = 'r',ls='--')\n",
    "plt.axhline(y = 0, color = 'r',ls='--')\n",
    "plt.show()\n",
    "if res<x1:\n",
    "    print('корень вне диапазона')\n",
    "else:\n",
    "    print('корень',res)\n",
    "    print('значение функции',f(res))"
   ]
  }
 ],
 "metadata": {
  "kernelspec": {
   "display_name": "Python 3 (ipykernel)",
   "language": "python",
   "name": "python3"
  },
  "language_info": {
   "codemirror_mode": {
    "name": "ipython",
    "version": 3
   },
   "file_extension": ".py",
   "mimetype": "text/x-python",
   "name": "python",
   "nbconvert_exporter": "python",
   "pygments_lexer": "ipython3",
   "version": "3.11.5"
  }
 },
 "nbformat": 4,
 "nbformat_minor": 5
}
