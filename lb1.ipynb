{
 "cells": [
  {
   "cell_type": "markdown",
   "id": "0cab0789",
   "metadata": {},
   "source": [
    "# Лабораторная работа №1. Решение оптимизационных задач.\n",
    "\n",
    "## Задача 1. Найти минимум функции одной переменной. Построить график функции.\n",
    "\n",
    "### График заданной фукции : $$ f(x)=x^2-x-e^{-x},  x\\in [0;2]$$"
   ]
  },
  {
   "cell_type": "markdown",
   "id": "bfc5b475",
   "metadata": {},
   "source": [
    "Для построения графиков одной функции на плоскости (х,у) в scilab можно использовать следующие функции:\n",
    "***plot(x,y)*** - построение графика функции у(х). координаты точек (хбу) которого берутся из векторо одинакового размера х и у.\n",
    "\n",
    "Приведем пример решения данной задачи с помощью scilab:\n",
    "\n",
    "``` scilab\n",
    "clf();\n",
    "x = [0:0.1:2];\n",
    "title(\"f(x) = x^2 - x+e^-x, x E [0;2]\", \"fontsize\",3);\n",
    "plot(x^2-x+%e^(-x));\n",
    "```"
   ]
  },
  {
   "cell_type": "markdown",
   "id": "d2115022",
   "metadata": {},
   "source": [
    "На языке программирования python данная функция будет выглядеть следующим образом"
   ]
  },
  {
   "cell_type": "code",
   "execution_count": 1,
   "id": "213a540d",
   "metadata": {},
   "outputs": [
    {
     "data": {
      "image/png": "[encoded data removed]",
      "text/plain": [
       "<Figure size 640x480 with 1 Axes>"
      ]
     },
     "metadata": {},
     "output_type": "display_data"
    }
   ],
   "source": [
    "import math\n",
    "import numpy as np\n",
    "import matplotlib.pyplot as plt\n",
    "\n",
    "def f(x):\n",
    "    return x**2-x+math.exp(-x)\n",
    "\n",
    "x = np.arange(0,2,0.01)\n",
    "y = np.vectorize(f)\n",
    "\n",
    "plt.plot(x,y(x))\n",
    "plt.show()"
   ]
  },
  {
   "cell_type": "markdown",
   "id": "1fecead4",
   "metadata": {},
   "source": [
    "Не обошлось без использования дополнительных библиотек, отвечающих за отображение графика и математические функции.\n",
    "\n",
    "На графике видим что наименьшее значение функции достигается в точке х=0.75, f(x) = 0.26.\n",
    "\n",
    "### Поиск минимального\n",
    "\n",
    "Для  нахождения  минимума  функции на  заданном  промежутке  сначала исследуется  функция  на  наличие  минимума.  Выполняется  приближенная оценка точки минимума. Далее, для вычисления точки минимума с заданной высокой точностью в Scilab используется функция ***fminsearch:  xmin = fminsearch( f , x0)*** или ***[xmin, fval] = fminsearch( f , x0)  xmin*** – точка минимума функции, f – имя функции, x0 – начальное приближение, **fval*** – значение функции в точке минимума. Точность вычисления xmin по умолчанию 10^(-4). \n",
    "\n",
    "Мы будем выполнять данную задачу на python."
   ]
  },
  {
   "cell_type": "code",
   "execution_count": 2,
   "id": "36bc7aa0",
   "metadata": {},
   "outputs": [
    {
     "name": "stdout",
     "output_type": "stream",
     "text": [
      "min x: 0.74  f(x): 0.28471391552103437\n"
     ]
    }
   ],
   "source": [
    "import math\n",
    "import numpy as np\n",
    "import matplotlib.pyplot as plt\n",
    "\n",
    "def f(x):\n",
    "    return x**2-x+math.exp(-x)\n",
    "\n",
    "x = np.arange(0,2,0.01)\n",
    "y = np.vectorize(f)\n",
    "\n",
    "ymin = np.min(y(x))\n",
    "xmin = np.where(y(x) == ymin)\n",
    "print('min x:',float(x[xmin[0]]),' f(x):',ymin)"
   ]
  },
  {
   "cell_type": "markdown",
   "id": "33b35e2b",
   "metadata": {},
   "source": [
    "Получили более точные значения"
   ]
  },
  {
   "cell_type": "markdown",
   "id": "46165032",
   "metadata": {},
   "source": [
    "\n",
    "## Задача 2. Решить задачу линейного программирования.\n",
    "\n",
    "### Задача $$W=x_1+x_2+3 \\to max$$\n",
    "$$\n",
    "\\left\\{\n",
    "\\begin{aligned}\n",
    "x_1-x_2 \\le 1\\\\\n",
    "x_1-x_2 \\ge -2\\\\\n",
    "-x_1+x_2 \\ge -1\\\\\n",
    "2x_1+x_2 \\ge -2\\\\\n",
    "\\end{aligned}\n",
    "\\right.$$\n"
   ]
  },
  {
   "cell_type": "markdown",
   "id": "07e8841a",
   "metadata": {},
   "source": [
    "Для решения задач линейного программирования в Scilab предназначена\n",
    "функция linpro следующей структуры:\n",
    "***[x,kl,f]=linpro(с,A,b[,ci,cs][,k][,x0])***\n",
    "\n",
    "Здесь ***c*** — массив (вектор-столбец) коэффициентов при неизвестных функции цели, длина вектора n совпадает с количеством неизвестных x.\n",
    "\n",
    "**A** — матрица при неизвестных из левой части системы ограничений, количество строк матрицы равно количеству ограничений m, а количество столбцов совпадает с количеством неизвестных n.\n",
    "\n",
    "**b** — массив (вектор-столбец), содержит свободные члены системы ограничений, длина вектора m.\n",
    "\n",
    "**ci** — массив (вектор-столбец) размерности n содержит нижнюю границу переменных (cij 6 xj ); если таковая отсутствует, указывают [].\n",
    "\n",
    "**cs** — массив (вектор-столбец) длиной n, содержит верхнюю границу переменных (csj > xj ); если таковая отсутствует, указывают [].\n",
    "\n",
    "**k** — целочисленная переменная, используется, если в систему ограничений кроме неравенств входят и равенства, в матрице они будут находиться в k первых\n",
    "строках, оставшиеся l строк займут неравенства, т.е. m = k + l.\n",
    "\n",
    "**x0** — вектор-столбец начальных приближений длиной n.\n",
    "\n",
    "Функция ***linpro*** возвращает массив неизвестных x, минимальное значение функции f и массив множителей Лагранжа kl.\n",
    "\n",
    "Пример кода на scilab.\n",
    "``` scilab\n",
    "c=[1;1];\n",
    "A=[1 -1; -1 1; 1 -1; -2 -1];\n",
    "b=[1;2;1;2];\n",
    "ci=[0;0];\n",
    "[x,kl,f]=linpro(p,A,b,ai,[])\n",
    "```\n",
    "\n",
    "Мы попробуем решить данную задачу на python"
   ]
  },
  {
   "cell_type": "code",
   "execution_count": 3,
   "id": "95e36565",
   "metadata": {},
   "outputs": [
    {
     "name": "stdout",
     "output_type": "stream",
     "text": [
      "Нет оптимального решения\n"
     ]
    }
   ],
   "source": [
    "from ortools.linear_solver import pywraplp # библиотека линейного решателя\n",
    "solver = pywraplp.Solver.CreateSolver(\"GLOP\") # Создаем решатель с помощью бэкенда GLOP\n",
    "x1 = solver.IntVar(0, solver.infinity(), 'x1') # Вводим переменные\n",
    "x2 = solver.IntVar(0, solver.infinity(), 'x2')\n",
    "solver.Add(x1- x2 <= 1) # Вводим ограничения\n",
    "solver.Add(x1-x2 >= -2) \n",
    "solver.Add(-x1+x2 >= -1) \n",
    "solver.Add(2*x1+x2 >= -2)\n",
    "\n",
    "solver.Maximize(x1 + x2 + 3) #поиск максимума целевой функции\n",
    "status = solver.Solve() #оптимизация\n",
    "if status == pywraplp.Solver.OPTIMAL: #Эта функция возвращает статус, который можно использовать, чтобы проверить оптимальность принятого решения.\n",
    "    print(f'W = {solver.Objective().Value()}') # значения функции и х если решаема\n",
    "    print('значения для х:')\n",
    "    print(f' - x1 = {x1.solution_value()}')\n",
    "    print(f' - x2 = {x2.solution_value()}')\n",
    "else:\n",
    "    print('Нет оптимального решения') #вывод ответа если решения нет"
   ]
  },
  {
   "cell_type": "markdown",
   "id": "bb0e77a7",
   "metadata": {},
   "source": [
    "Как мы видим по итогу решения задачи оптимального решения при заданных ограничениях нет."
   ]
  },
  {
   "cell_type": "code",
   "execution_count": null,
   "id": "869860ed",
   "metadata": {},
   "outputs": [],
   "source": []
  }
 ],
 "metadata": {
  "kernelspec": {
   "display_name": "Python 3 (ipykernel)",
   "language": "python",
   "name": "python3"
  },
  "language_info": {
   "codemirror_mode": {
    "name": "ipython",
    "version": 3
   },
   "file_extension": ".py",
   "mimetype": "text/x-python",
   "name": "python",
   "nbconvert_exporter": "python",
   "pygments_lexer": "ipython3",
   "version": "3.11.5"
  }
 },
 "nbformat": 4,
 "nbformat_minor": 5
}
